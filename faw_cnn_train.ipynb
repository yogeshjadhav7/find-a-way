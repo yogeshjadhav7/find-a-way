{
 "cells": [
  {
   "cell_type": "code",
   "execution_count": 1,
   "metadata": {},
   "outputs": [
    {
     "name": "stderr",
     "output_type": "stream",
     "text": [
      "/Users/yogesh/tensorflow/lib/python3.6/site-packages/h5py/__init__.py:36: FutureWarning: Conversion of the second argument of issubdtype from `float` to `np.floating` is deprecated. In future, it will be treated as `np.float64 == np.dtype(float).type`.\n",
      "  from ._conv import register_converters as _register_converters\n",
      "Using TensorFlow backend.\n"
     ]
    }
   ],
   "source": [
    "import numpy as np\n",
    "from faw import FindAWay"
   ]
  },
  {
   "cell_type": "code",
   "execution_count": 2,
   "metadata": {},
   "outputs": [],
   "source": [
    "faw = FindAWay()"
   ]
  },
  {
   "cell_type": "code",
   "execution_count": null,
   "metadata": {},
   "outputs": [],
   "source": [
    "N_EPISODES = 100\n",
    "N_GAMES_PER_EPISODE = 100\n",
    "verbose = 0\n",
    "\n",
    "for n_episode in range(N_EPISODES):\n",
    "    print(\"\\n\\n\\nN_EPISODE: \", n_episode)\n",
    "    model_name, model = faw.load_model()\n",
    "    features = []\n",
    "    labels = []\n",
    "    lost = 0\n",
    "    won = 0\n",
    "    for n_game in range(N_GAMES_PER_EPISODE):\n",
    "        grid = faw.random_initialize_grid()\n",
    "        trackrecord = []\n",
    "        faw.simulate(grid=grid, model=model, trackrecord=trackrecord, verbose=verbose)\n",
    "        (final_grid, _, _)  = trackrecord[len(trackrecord) - 1]\n",
    "        \n",
    "        if faw.is_game_won(grid=final_grid): won += 1\n",
    "        else lost += 1\n",
    "        \n",
    "        if verbose == 1: print(final_grid)\n",
    "        if len(features_game) == 0: continue\n",
    "            \n",
    "        features_game, labels_game = faw.extract_features_labels(final_grid=final_grid, trackrecord=trackrecord)\n",
    "        if len(features) == 0:\n",
    "            features = features_game\n",
    "            labels = labels_game\n",
    "        else:\n",
    "            features = np.concatenate((features, features_game), axis=0)\n",
    "            labels = np.concatenate((labels, labels_game), axis=0)\n",
    "            \n",
    "    print(\"won: \", won, \" lost: \", lost)\n",
    "    print(\"Training model on \" + str(len(features)) + \" instances...\")\n",
    "    _, model = faw.train_model(model=model, features=features, labels=labels, verbose=verbose)\n",
    "    loss, accuracy = faw.evaluate(model=model, features=features, labels=labels)\n",
    "    print(\"loss: \", loss)\n",
    "    print(\"accuracy: \", accuracy)\n",
    "    "
   ]
  },
  {
   "cell_type": "code",
   "execution_count": null,
   "metadata": {},
   "outputs": [],
   "source": []
  }
 ],
 "metadata": {
  "kernelspec": {
   "display_name": "Python 3",
   "language": "python",
   "name": "python3"
  },
  "language_info": {
   "codemirror_mode": {
    "name": "ipython",
    "version": 3
   },
   "file_extension": ".py",
   "mimetype": "text/x-python",
   "name": "python",
   "nbconvert_exporter": "python",
   "pygments_lexer": "ipython3",
   "version": "3.6.4"
  }
 },
 "nbformat": 4,
 "nbformat_minor": 2
}
